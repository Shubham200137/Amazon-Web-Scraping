{
 "cells": [
  {
   "cell_type": "code",
   "execution_count": null,
   "id": "f92552f8",
   "metadata": {},
   "outputs": [],
   "source": [
    "from bs4 import BeautifulSoup\n",
    "import requests\n",
    "import time \n",
    "import datetime\n",
    "import csv\n",
    "import smtplib"
   ]
  },
  {
   "cell_type": "code",
   "execution_count": null,
   "id": "37d97ed3",
   "metadata": {
    "scrolled": true
   },
   "outputs": [],
   "source": [
    "URL=\"https://www.amazon.in/Samsung-Mystique-Storage-Purchased-Separately/dp/B09XJ48QPR/ref=sr_1_1_sspa?crid=L04WIM7RH5TQ&keywords=samsung&qid=1669218817&qu=eyJxc2MiOiI2LjUzIiwicXNhIjoiNi4wOSIsInFzcCI6IjQuNDgifQ%3D%3D&sprefix=sam%2Caps%2C356&sr=8-1-spons&sp_csd=d2lkZ2V0TmFtZT1zcF9hdGY&psc=1\"\n",
    "\n",
    "headers= { \"User-Agent\": \"Mozilla/5.0 (Windows NT 10.0; Win64; x64) AppleWebKit/537.36 (KHTML, like Gecko) Chrome/107.0.0.0 Safari/537.36 OPR/93.0.0.0\", \"Accept-Encoding\":\"gzip, deflate\", \"Accept\":\"text/html,application/xhtml+xml,application/xml;q=0.9,*/*;q=0.8\", \"DNT\":\"1\",\"Connection\":\"close\", \"Upgrade-Insecure-Requests\":\"1\"}\n",
    "\n",
    "page= requests.get(URL,headers=headers)\n",
    "\n",
    "soup1=BeautifulSoup(page.content,\"html.parser\")\n",
    "\n",
    "soup2=BeautifulSoup(soup1.prettify(),\"html.parser\" )\n",
    "\n",
    "title=soup2.find(id='productTitle').get_text()\n",
    "\n",
    "#price=soup2.find(class_='a-offscreen').get_text()\n",
    "price = soup2.find('span',class_='a-offscreen').get_text().replace(\"₹\",\"\")\n",
    "\n",
    "rating=soup2.find(class_=\"a-icon-alt\").get_text()\n",
    "\n",
    "print(title)\n",
    "\n",
    "print(price)\n",
    "\n",
    "print(rating)\n"
   ]
  },
  {
   "cell_type": "code",
   "execution_count": null,
   "id": "140b7b35",
   "metadata": {},
   "outputs": [],
   "source": [
    "title=title.strip()\n",
    "#price=price.strip()[1:]\n",
    "price=price.replace(\",\",\"\").strip()\n",
    "rating=rating.strip()\n",
    "\n",
    "\n",
    "\n",
    "print(title)\n",
    "print(price)\n",
    "print(rating)"
   ]
  },
  {
   "cell_type": "code",
   "execution_count": null,
   "id": "aec1d4be",
   "metadata": {},
   "outputs": [],
   "source": [
    "import datetime\n",
    "today=datetime.date.today()\n",
    "print(today)"
   ]
  },
  {
   "cell_type": "code",
   "execution_count": null,
   "id": "22e86737",
   "metadata": {},
   "outputs": [],
   "source": [
    "import csv\n",
    "\n",
    "header=[\"Title\",\"Price\",\"Date\",\"Ratings\"]\n",
    "\n",
    "data=[title,price,today,rating]\n",
    "\n",
    "with open(\"AmazonWebScrapingDataset.csv\",\"a+\",newline=\"\",encoding=\"UTF-8\") as f: \n",
    "    writer=csv.writer(f)\n",
    "    writer.writerow(header)"
   ]
  },
  {
   "cell_type": "code",
   "execution_count": null,
   "id": "30ac7177",
   "metadata": {},
   "outputs": [],
   "source": [
    "# If uou want to try sending yourself an email (just for fun) when a price hits below a certain level you can try it out with this script\n",
    "        \n",
    "def send_mail():\n",
    "    server = smtplib.SMTP_SSL('smtp.gmail.com',465)\n",
    "    server.ehlo()\n",
    "    #server.starttls()\n",
    "    server.ehlo()\n",
    "    server.login('test@gmail.com','password')\n",
    "    \n",
    "    subject = \"The Price of Mobile is Below 25000! Now is your chance to buy!\"\n",
    "    body = \"XYZ, This is the moment we have been waiting for. Now is your chance to pick up the phone of your dreams. Don't mess it up! Link here: https://www.amazon.in/Samsung-Mystique-Storage-Purchased-Separately/dp/B09XJ48QPR/ref=sr_1_1_sspa?crid=L04WIM7RH5TQ&keywords=samsung&qid=1669218817&qu=eyJxc2MiOiI2LjUzIiwicXNhIjoiNi4wOSIsInFzcCI6IjQuNDgifQ%3D%3D&sprefix=sam%2Caps%2C356&sr=8-1-spons&sp_csd=d2lkZ2V0TmFtZT1zcF9hdGY&psc=1\"\n",
    "   \n",
    "    msg = f\"Subject: {subject}\\n\\n{body}\"\n",
    "    \n",
    "    server.sendmail(\n",
    "        'test@gmail.com','test2@gmail.com',\n",
    "        msg\n",
    "     \n",
    "    )"
   ]
  },
  {
   "cell_type": "code",
   "execution_count": null,
   "id": "21bbbab4",
   "metadata": {
    "scrolled": true
   },
   "outputs": [],
   "source": [
    "def check_price():\n",
    "    URL=\"https://www.amazon.in/Samsung-Mystique-Storage-Purchased-Separately/dp/B09XJ48QPR/ref=sr_1_1_sspa?crid=L04WIM7RH5TQ&keywords=samsung&qid=1669218817&qu=eyJxc2MiOiI2LjUzIiwicXNhIjoiNi4wOSIsInFzcCI6IjQuNDgifQ%3D%3D&sprefix=sam%2Caps%2C356&sr=8-1-spons&sp_csd=d2lkZ2V0TmFtZT1zcF9hdGY&psc=1\"\n",
    "\n",
    "    headers= { \"User-Agent\": \"Mozilla/5.0 (Windows NT 10.0; Win64; x64) AppleWebKit/537.36 (KHTML, like Gecko) Chrome/107.0.0.0 Safari/537.36 OPR/93.0.0.0\", \"Accept-Encoding\":\"gzip, deflate\", \"Accept\":\"text/html,application/xhtml+xml,application/xml;q=0.9,*/*;q=0.8\", \"DNT\":\"1\",\"Connection\":\"close\", \"Upgrade-Insecure-Requests\":\"1\"}\n",
    "\n",
    "    page= requests.get(URL,headers=headers)\n",
    "\n",
    "    soup1=BeautifulSoup(page.content,\"html.parser\")\n",
    "\n",
    "    soup2=BeautifulSoup(soup1.prettify(),\"html.parser\" )\n",
    "\n",
    "    title=soup2.find(id='productTitle').get_text()\n",
    "\n",
    "    price = soup2.find('span',class_='a-offscreen').get_text().replace(\"₹\",\"\")\n",
    "    \n",
    "    rating=soup2.find(class_=\"a-icon-alt\").get_text()\n",
    "    \n",
    "    \n",
    "    title=title.strip()\n",
    "    price=price.replace(\",\",\"\").strip()\n",
    "    rating=rating.strip()\n",
    "    \n",
    "  \n",
    "    today=datetime.date.today()\n",
    "    \n",
    "    \n",
    "    data=[title,price,today,rating]\n",
    "    with open(\"AmazonWebScrapingDataset.csv\",\"a+\",newline=\"\",encoding=\"UTF-8\") as f:\n",
    "        writer=csv.writer(f)\n",
    "        writer.writerow(data)\n",
    "    \n",
    "    price=float(price)\n",
    "    \n",
    "    if(price<=27000):\n",
    "        send_mail()"
   ]
  },
  {
   "cell_type": "code",
   "execution_count": null,
   "id": "32910e75",
   "metadata": {},
   "outputs": [],
   "source": [
    "while(True):\n",
    "    check_price()\n",
    "    time.sleep(86400)\n",
    "#86400 runs the code in loop for 60*60*24 or a day"
   ]
  },
  {
   "cell_type": "code",
   "execution_count": null,
   "id": "a2e87fe0",
   "metadata": {},
   "outputs": [],
   "source": [
    "import pandas as pd\n",
    "\n",
    "df=pd.read_csv(r\"AmazonWebScrapingDataset.csv\")\n",
    "print(df)"
   ]
  }
 ],
 "metadata": {
  "kernelspec": {
   "display_name": "Python 3 (ipykernel)",
   "language": "python",
   "name": "python3"
  },
  "language_info": {
   "codemirror_mode": {
    "name": "ipython",
    "version": 3
   },
   "file_extension": ".py",
   "mimetype": "text/x-python",
   "name": "python",
   "nbconvert_exporter": "python",
   "pygments_lexer": "ipython3",
   "version": "3.10.8"
  }
 },
 "nbformat": 4,
 "nbformat_minor": 5
}
